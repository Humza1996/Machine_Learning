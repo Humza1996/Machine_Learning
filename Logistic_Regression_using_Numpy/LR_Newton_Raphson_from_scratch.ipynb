{
 "cells": [
  {
   "cell_type": "markdown",
   "metadata": {
    "code_folding": []
   },
   "source": [
    "# Define Libraries"
   ]
  },
  {
   "cell_type": "code",
   "execution_count": 36,
   "metadata": {},
   "outputs": [],
   "source": [
    "import numpy as np\n",
    "import matplotlib.pyplot as plt\n",
    "from matplotlib.colors import ListedColormap\n",
    "from sklearn import datasets \n",
    "from math import exp\n",
    "import time\n",
    "\n",
    "start_time = time.time()"
   ]
  },
  {
   "cell_type": "markdown",
   "metadata": {},
   "source": [
    "# Define Logistic Regression Function"
   ]
  },
  {
   "cell_type": "code",
   "execution_count": 37,
   "metadata": {},
   "outputs": [],
   "source": [
    "\n",
    "# the logistic function\n",
    "def logistic_func(theta, x):\n",
    "    t = x.dot(theta)\n",
    "    g = np.zeros(t.shape)\n",
    "    # split into positive and negative to improve stability\n",
    "    g[t>=0.0] = 1.0 / (1.0 + np.exp(-t[t>=0.0])) \n",
    "    g[t<0.0] = np.exp(t[t<0.0]) / (np.exp(t[t<0.0])+1.0)\n",
    "    return g"
   ]
  },
  {
   "cell_type": "markdown",
   "metadata": {},
   "source": [
    "# Fit the model"
   ]
  },
  {
   "cell_type": "code",
   "execution_count": 38,
   "metadata": {},
   "outputs": [],
   "source": [
    "# function to compute log-likelihood\n",
    "def neg_log_like(theta, x, y):\n",
    "    g = logistic_func(theta,x)\n",
    "    return -sum(np.log(g[y>0.5])) - sum(np.log(1-g[y<0.5]))\n"
   ]
  },
  {
   "cell_type": "code",
   "execution_count": 39,
   "metadata": {},
   "outputs": [],
   "source": [
    "# function to compute the gradient of the negative log-likelihood\n",
    "def log_grad(theta, x, y):\n",
    "    g = logistic_func(theta,x)\n",
    "    return -x.T.dot(y-g)\n"
   ]
  },
  {
   "cell_type": "markdown",
   "metadata": {},
   "source": [
    "# Compute Hessian Matrix"
   ]
  },
  {
   "cell_type": "code",
   "execution_count": 40,
   "metadata": {},
   "outputs": [],
   "source": [
    "# function to compute the hessian matrix\n",
    "def hessian_matrix(theta,x):\n",
    "    X = np.asmatrix(x)\n",
    "    return X.T*(np.diag(np.ravel(logistic_func(theta, x)*(1-logistic_func(theta, x))))*X)"
   ]
  },
  {
   "cell_type": "markdown",
   "metadata": {},
   "source": [
    "# Compute the Gradient Decent "
   ]
  },
  {
   "cell_type": "code",
   "execution_count": 41,
   "metadata": {},
   "outputs": [],
   "source": [
    "# implementation of gradient descent for logistic regression\n",
    "def newton_method(theta, x, y, tol):\n",
    "    nll_vec = []\n",
    "    nll_vec.append(neg_log_like(theta, x, y))\n",
    "    nll_delta = 2.0*tol\n",
    "    iter = 0\n",
    "    while (abs(nll_delta) > tol):\n",
    "        theta = theta - np.squeeze(np.asarray(np.linalg.inv(hessian_matrix(theta,x))*np.asmatrix(log_grad(theta, x, y)).T))\n",
    "        nll_vec.append(neg_log_like(theta, x, y))\n",
    "        nll_delta = nll_vec[-2]-nll_vec[-1]\n",
    "        iter += 1\n",
    "    return iter,theta, np.array(nll_vec)"
   ]
  },
  {
   "cell_type": "markdown",
   "metadata": {},
   "source": [
    "# Define Prediction function"
   ]
  },
  {
   "cell_type": "code",
   "execution_count": 42,
   "metadata": {},
   "outputs": [],
   "source": [
    "# function to compute output of LR classifier\n",
    "def lr_predict(theta,x):\n",
    "    # form Xtilde for prediction\n",
    "    shape = x.shape\n",
    "    Xtilde = np.zeros((shape[0],shape[1]+1))\n",
    "    Xtilde[:,0] = np.ones(shape[0])\n",
    "    Xtilde[:,1:] = x\n",
    "    return logistic_func(theta,Xtilde)"
   ]
  },
  {
   "cell_type": "markdown",
   "metadata": {},
   "source": [
    "# Generate Random Datasets"
   ]
  },
  {
   "cell_type": "code",
   "execution_count": 43,
   "metadata": {},
   "outputs": [],
   "source": [
    "## Generate dataset    \n",
    "np.random.seed(2017) # Set random seed so results are repeatable\n",
    "x,y = datasets.make_blobs(n_samples=100,n_features=2,centers=2,cluster_std=6.0)\n",
    "\n",
    "## build classifier\n",
    "# form Xtilde\n",
    "shape = x.shape\n",
    "xtilde = np.zeros((shape[0],shape[1]+1))\n",
    "xtilde[:,0] = np.ones(shape[0])\n",
    "xtilde[:,1:] = x"
   ]
  },
  {
   "cell_type": "markdown",
   "metadata": {},
   "source": [
    "# initialize parameters and call function"
   ]
  },
  {
   "cell_type": "code",
   "execution_count": 44,
   "metadata": {},
   "outputs": [],
   "source": [
    "# Initialize theta to zero\n",
    "theta = np.zeros(shape[1]+1)\n",
    "# Run gradient descent\n",
    "alpha =0.0000001\n",
    "tol = 1e-3\n",
    "maxiter = 10000\n",
    "iter,theta,cost = newton_method(theta, xtilde, y, tol)"
   ]
  },
  {
   "cell_type": "markdown",
   "metadata": {},
   "source": [
    "# Plot Results"
   ]
  },
  {
   "cell_type": "code",
   "execution_count": 45,
   "metadata": {},
   "outputs": [
    {
     "data": {
      "image/png": "[encoded data removed]",
      "text/plain": [
       "<Figure size 432x288 with 1 Axes>"
      ]
     },
     "metadata": {
      "needs_background": "light"
     },
     "output_type": "display_data"
    },
    {
     "name": "stdout",
     "output_type": "stream",
     "text": [
      "\n",
      "Total Number of Iteration :  8\n",
      "--- 7.484586000442505 seconds ---\n"
     ]
    }
   ],
   "source": [
    "## Plot the decision boundary. \n",
    "# Begin by creating the mesh [x_min, x_max]x[y_min, y_max].\n",
    "h = .02  # step size in the mesh\n",
    "x_delta = (x[:, 0].max() - x[:, 0].min())*0.05 # add 5% white space to border\n",
    "y_delta = (x[:, 1].max() - x[:, 1].min())*0.05\n",
    "x_min, x_max = x[:, 0].min() - x_delta, x[:, 0].max() + x_delta\n",
    "y_min, y_max = x[:, 1].min() - y_delta, x[:, 1].max() + y_delta\n",
    "xx, yy = np.meshgrid(np.arange(x_min, x_max, h), np.arange(y_min, y_max, h))\n",
    "Z = lr_predict(theta,np.c_[xx.ravel(), yy.ravel()])\n",
    "\n",
    "# Create color maps\n",
    "cmap_light = ListedColormap(['#FFAAAA', '#AAFFAA'])\n",
    "cmap_bold = ListedColormap(['#FF0000', '#00FF00'])\n",
    "\n",
    "# Put the result into a color plot\n",
    "Z = Z.reshape(xx.shape)\n",
    "plt.figure()\n",
    "plt.pcolormesh(xx, yy, Z, cmap=cmap_light)\n",
    "\n",
    "## Plot the training points\n",
    "plt.scatter(x[:, 0], x[:, 1], c=y, cmap=cmap_bold)\n",
    "\n",
    "## Show the plot\n",
    "plt.xlim(xx.min(), xx.max())\n",
    "plt.ylim(yy.min(), yy.max())\n",
    "plt.title(\"Logistic regression classifier\")\n",
    "plt.show()\n",
    "\n",
    "print(\"\\nTotal Number of Iteration : \",iter)\n",
    "print(\"--- %s seconds ---\" % (time.time() - start_time))"
   ]
  }
 ],
 "metadata": {
  "kernelspec": {
   "display_name": "Python 3",
   "language": "python",
   "name": "python3"
  },
  "language_info": {
   "codemirror_mode": {
    "name": "ipython",
    "version": 3
   },
   "file_extension": ".py",
   "mimetype": "text/x-python",
   "name": "python",
   "nbconvert_exporter": "python",
   "pygments_lexer": "ipython3",
   "version": "3.7.6"
  }
 },
 "nbformat": 4,
 "nbformat_minor": 2
}
