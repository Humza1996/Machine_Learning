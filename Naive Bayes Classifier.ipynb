{
 "cells": [
  {
   "cell_type": "markdown",
   "metadata": {},
   "source": [
    "# Define Libraries"
   ]
  },
  {
   "cell_type": "code",
   "execution_count": 1,
   "metadata": {},
   "outputs": [],
   "source": [
    "from __future__ import division\n",
    "import numpy as np\n",
    "import json\n",
    "from sklearn.feature_extraction import text"
   ]
  },
  {
   "cell_type": "markdown",
   "metadata": {},
   "source": [
    "# Load dataset"
   ]
  },
  {
   "cell_type": "code",
   "execution_count": 2,
   "metadata": {},
   "outputs": [],
   "source": [
    "x = open('papers.txt').read()\n",
    "papers = json.loads(x)"
   ]
  },
  {
   "cell_type": "markdown",
   "metadata": {},
   "source": [
    "# Separate the Dataset into classes"
   ]
  },
  {
   "cell_type": "code",
   "execution_count": 3,
   "metadata": {},
   "outputs": [
    {
     "name": "stdout",
     "output_type": "stream",
     "text": [
      "Total Number of Papers are :  80\n",
      "\n",
      "confirm Papers of Hamilton are :  51\n",
      "\n",
      "confirm Papers of Madison are :  17\n",
      "\n",
      "Dissiputed Papers of are :  12\n"
     ]
    }
   ],
   "source": [
    "papersH = papers[0] # papers by Hamilton \n",
    "papersM = papers[1] # papers by Madison\n",
    "papersD = papers[2] # disputed papers\n",
    "\n",
    "nH, nM, nD = len(papersH), len(papersM), len(papersD)\n",
    "print(\"Total Number of Papers are : \",(nH+nM+nD))\n",
    "print(\"\\nconfirm Papers of Hamilton are : \",(nH))\n",
    "print(\"\\nconfirm Papers of Madison are : \",(nM))\n",
    "print(\"\\nDissiputed Papers of are : \",(nD))"
   ]
  },
  {
   "cell_type": "markdown",
   "metadata": {},
   "source": [
    "# Apply the Naive Bayes Classifier "
   ]
  },
  {
   "cell_type": "code",
   "execution_count": 4,
   "metadata": {},
   "outputs": [
    {
     "name": "stderr",
     "output_type": "stream",
     "text": [
      "C:\\Users\\humza\\anaconda3\\lib\\site-packages\\sklearn\\feature_extraction\\text.py:385: UserWarning: Your stop_words may be inconsistent with your preprocessing. Tokenizing the stop words generated tokens ['hamilton', 'madison'] not in stop_words.\n",
      "  'stop_words.' % sorted(inconsistent))\n"
     ]
    },
    {
     "name": "stdout",
     "output_type": "stream",
     "text": [
      "Madison\n",
      "Madison\n",
      "Madison\n",
      "Madison\n",
      "Hamilton\n",
      "Hamilton\n",
      "Madison\n",
      "Hamilton\n",
      "Hamilton\n",
      "Madison\n",
      "Madison\n",
      "Madison\n",
      "\n",
      "Out of  12  Dissputed Papers. Madison wrote  8  Papers\n",
      "\n",
      "Out of  12  Dissputed Papers. hamilton wrote  4  Papers\n"
     ]
    }
   ],
   "source": [
    "\n",
    "\n",
    "# This allows you to ignore certain common words in English\n",
    "# You may want to experiment by choosing the second option or your own\n",
    "# list of stop words, but be sure to keep 'HAMILTON' and 'MADISON' in\n",
    "# this list at a minimum, as their names appear in the text of the papers\n",
    "# and leaving them in could lead to unpredictable results\n",
    "stop_words = text.ENGLISH_STOP_WORDS.union({'HAMILTON','MADISON'})\n",
    "#stop_words = {'HAMILTON','MADISON'}\n",
    "\n",
    "## Form bag of words model using words used at least 10 times\n",
    "vectorizer = text.CountVectorizer(stop_words=stop_words,min_df=10)\n",
    "X = vectorizer.fit_transform(papersH+papersM+papersD).toarray()\n",
    "\n",
    "# Uncomment this line to see the full list of words remaining after filtering out \n",
    "# stop words and words used less than min_df times\n",
    "#vectorizer.vocabulary_\n",
    "\n",
    "# Split word counts into separate matrices\n",
    "XH, XM, XD = X[:nH,:], X[nH:nH+nM,:], X[nH+nM:,:]\n",
    "\n",
    "# Estimate probability of each word in vocabulary being used by Hamilton\n",
    "Probab_of_word_Ham = []\n",
    "k = XH.sum(axis=0)\n",
    "total_sum = sum(k)\n",
    "\n",
    "for i in range(0,len(XH[1])):\n",
    "    prob = ((k[i] + 1)/(float(total_sum + len(XH[1]))))\n",
    "    Probab_of_word_Ham.append(prob)\n",
    "    \n",
    "\n",
    "# Estimate probability of each word in vocabulary being used by Madison\n",
    "Probab_of_words_Madison = []\n",
    "k = XM.sum(axis=0)\n",
    "total_sum = sum(k)\n",
    "\n",
    "for i in range(0,len(XM[1])):\n",
    "    prob = ((k[i] + 1)/float(total_sum + len(XM[1])))\n",
    "    Probab_of_words_Madison.append(prob)\n",
    "    \n",
    "\n",
    "# Compute ratio of these probabilities\n",
    "#fratio = Probab_of_word_Ham/Probab_of_words_Madison\n",
    "fratio = [a/b for a,b in zip(Probab_of_word_Ham,Probab_of_words_Madison)]\n",
    "\n",
    "# Compute prior probabilities \n",
    "piH = len(XH)/float(len(X))\n",
    "piM = len(XM)/float(len(X))\n",
    "m,h=0,0\n",
    "for xd in range(0,len(XD)): # Iterate over disputed documents\n",
    "    # Compute likelihood ratio for Naive Bayes model\n",
    "    Likeli = [np.power(a,b) for a,b in zip(fratio,XD[xd])]\n",
    "    aa = np.prod(np.array(Likeli))\n",
    "    LR = aa*(piH)/(piM)\n",
    "    \n",
    "    if LR>0.5:\n",
    "        print (\"Hamilton\")\n",
    "        m+=1\n",
    "    else:\n",
    "        h+=1\n",
    "        print (\"Madison\")\n",
    "print(\"\\nOut of \",(nD),\" Dissputed Papers. Madison wrote \",h,\" Papers\")\n",
    "print(\"\\nOut of \",(nD),\" Dissputed Papers. hamilton wrote \",m,\" Papers\")"
   ]
  }
 ],
 "metadata": {
  "kernelspec": {
   "display_name": "Python 3",
   "language": "python",
   "name": "python3"
  },
  "language_info": {
   "codemirror_mode": {
    "name": "ipython",
    "version": 3
   },
   "file_extension": ".py",
   "mimetype": "text/x-python",
   "name": "python",
   "nbconvert_exporter": "python",
   "pygments_lexer": "ipython3",
   "version": "3.7.6"
  }
 },
 "nbformat": 4,
 "nbformat_minor": 2
}
